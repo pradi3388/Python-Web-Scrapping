{
 "cells": [
  {
   "cell_type": "markdown",
   "id": "dfe8cd35-bca8-43c7-9964-8d3d1666b1fb",
   "metadata": {},
   "source": [
    "# AMAZON DATA WEBSCRAPPING USING SELENIUM"
   ]
  },
  {
   "cell_type": "markdown",
   "id": "cf7aa342-2b8d-4734-8a3f-1fe55291c2ca",
   "metadata": {},
   "source": [
    "#### IMPORT LIBRARY"
   ]
  },
  {
   "cell_type": "code",
   "execution_count": 43,
   "id": "ab6a7fd7-2f75-43f4-a36b-a98a764eb84f",
   "metadata": {},
   "outputs": [],
   "source": [
    "from selenium import webdriver"
   ]
  }
 ],
 "metadata": {
  "kernelspec": {
   "display_name": "Python 3 (ipykernel)",
   "language": "python",
   "name": "python3"
  },
  "language_info": {
   "codemirror_mode": {
    "name": "ipython",
    "version": 3
   },
   "file_extension": ".py",
   "mimetype": "text/x-python",
   "name": "python",
   "nbconvert_exporter": "python",
   "pygments_lexer": "ipython3",
   "version": "3.10.5"
  }
 },
 "nbformat": 4,
 "nbformat_minor": 5
}
