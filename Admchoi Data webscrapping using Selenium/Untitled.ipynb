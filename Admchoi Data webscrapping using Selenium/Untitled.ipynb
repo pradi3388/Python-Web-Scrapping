{
 "cells": [
  {
   "cell_type": "markdown",
   "id": "dfe8cd35-bca8-43c7-9964-8d3d1666b1fb",
   "metadata": {},
   "source": [
    "# ADAMCHOI DATA WEBSCRAPPING USING SELENIUM"
   ]
  },
  {
   "cell_type": "markdown",
   "id": "cf7aa342-2b8d-4734-8a3f-1fe55291c2ca",
   "metadata": {},
   "source": [
    "#### IMPORT LIBRARY"
   ]
  },
  {
   "cell_type": "code",
   "execution_count": 143,
   "id": "ab6a7fd7-2f75-43f4-a36b-a98a764eb84f",
   "metadata": {},
   "outputs": [],
   "source": [
    "from selenium import webdriver\n",
    "from selenium.webdriver.common.by import By\n",
    "import pandas as pd"
   ]
  },
  {
   "cell_type": "markdown",
   "id": "69023322-be4d-4e6a-b4e5-dae1511ca845",
   "metadata": {},
   "source": [
    "#### PATH AND WEBSITE"
   ]
  },
  {
   "cell_type": "code",
   "execution_count": 144,
   "id": "e8e25ba2-42dd-4dba-a941-bd279043a2b5",
   "metadata": {},
   "outputs": [],
   "source": [
    "website = 'https://www.adamchoi.co.uk/overs/detailed'\n",
    "path = 'D:/DS/workbook/PYTHON/Web Scrapping/webscrapping using Selenium/chromedriver/chromedriver.exe'"
   ]
  },
  {
   "cell_type": "markdown",
   "id": "16ff88dd-76f8-46d0-a653-2daddabc5c10",
   "metadata": {},
   "source": [
    "#### CREATING DRIVERS"
   ]
  },
  {
   "cell_type": "code",
   "execution_count": 145,
   "id": "cabf49d2-c8fb-4590-9c55-db8a50e55da1",
   "metadata": {},
   "outputs": [
    {
     "name": "stderr",
     "output_type": "stream",
     "text": [
      "C:\\Users\\padi3\\AppData\\Local\\Temp\\ipykernel_22296\\2159534918.py:1: DeprecationWarning: executable_path has been deprecated, please pass in a Service object\n",
      "  driver= webdriver.Chrome(path)\n"
     ]
    }
   ],
   "source": [
    "driver= webdriver.Chrome(path)\n",
    "driver.get(website)"
   ]
  },
  {
   "cell_type": "markdown",
   "id": "69c293d0-3060-4972-9c52-74ee59d8cc30",
   "metadata": {},
   "source": [
    "#### NAVIGATE AND CLICK "
   ]
  },
  {
   "cell_type": "code",
   "execution_count": 146,
   "id": "5f5a00dd-c3be-416a-9010-590c23ba36ed",
   "metadata": {},
   "outputs": [],
   "source": [
    "all_matches_button = driver.find_element(By.XPATH, '//label[@analytics-event=\"All matches\"]') # Navigate into all match "
   ]
  },
  {
   "cell_type": "code",
   "execution_count": 147,
   "id": "35d26006-3552-4412-81eb-8bdba3de7ef7",
   "metadata": {},
   "outputs": [],
   "source": [
    "all_matches_button.click() # Click to all match"
   ]
  },
  {
   "cell_type": "code",
   "execution_count": 148,
   "id": "192f432a-0b08-497f-a158-b5851ab8a86c",
   "metadata": {},
   "outputs": [],
   "source": [
    "matches = driver.find_elements(By.TAG_NAME,'tr')"
   ]
  },
  {
   "cell_type": "markdown",
   "id": "76b3c97c-41b0-4b28-8312-be5fe887e1cb",
   "metadata": {},
   "source": [
    "#### SEPERATING DATA"
   ]
  },
  {
   "cell_type": "code",
   "execution_count": 149,
   "id": "a9716dd1-facf-4c00-941a-1d06aef64289",
   "metadata": {
    "tags": []
   },
   "outputs": [],
   "source": [
    "date = []\n",
    "home_team = []\n",
    "score = []\n",
    "away_team = []\n",
    "\n",
    "for match in matches:\n",
    "    date.append(match.find_element(By.XPATH, './td[1]').text)\n",
    "    home_team.append(match.find_element(By.XPATH, './td[2]').text)\n",
    "    score.append(match.find_element(By.XPATH, './td[3]').text)\n",
    "    away_team.append(match.find_element(By.XPATH, './td[4]').text)\n",
    "\n",
    "driver.quit()"
   ]
  },
  {
   "cell_type": "markdown",
   "id": "12b75245-3877-44d8-9695-e72b4b4d39d3",
   "metadata": {},
   "source": [
    "#### PANDAS DATA FRAME"
   ]
  },
  {
   "cell_type": "code",
   "execution_count": 150,
   "id": "7032ba08-f47e-42b6-8bfd-fbbca67dff12",
   "metadata": {
    "tags": []
   },
   "outputs": [
    {
     "data": {
      "text/html": [
       "<div>\n",
       "<style scoped>\n",
       "    .dataframe tbody tr th:only-of-type {\n",
       "        vertical-align: middle;\n",
       "    }\n",
       "\n",
       "    .dataframe tbody tr th {\n",
       "        vertical-align: top;\n",
       "    }\n",
       "\n",
       "    .dataframe thead th {\n",
       "        text-align: right;\n",
       "    }\n",
       "</style>\n",
       "<table border=\"1\" class=\"dataframe\">\n",
       "  <thead>\n",
       "    <tr style=\"text-align: right;\">\n",
       "      <th></th>\n",
       "      <th>Date</th>\n",
       "      <th>Home Team</th>\n",
       "      <th>Score</th>\n",
       "      <th>Away team</th>\n",
       "    </tr>\n",
       "  </thead>\n",
       "  <tbody>\n",
       "    <tr>\n",
       "      <th>0</th>\n",
       "      <td>05-08-2022</td>\n",
       "      <td>Crystal Palace</td>\n",
       "      <td>0 - 2</td>\n",
       "      <td>Arsenal</td>\n",
       "    </tr>\n",
       "    <tr>\n",
       "      <th>1</th>\n",
       "      <td>13-08-2022</td>\n",
       "      <td>Arsenal</td>\n",
       "      <td>4 - 2</td>\n",
       "      <td>Leicester</td>\n",
       "    </tr>\n",
       "    <tr>\n",
       "      <th>2</th>\n",
       "      <td>20-08-2022</td>\n",
       "      <td>Bournemouth</td>\n",
       "      <td>0 - 3</td>\n",
       "      <td>Arsenal</td>\n",
       "    </tr>\n",
       "    <tr>\n",
       "      <th>3</th>\n",
       "      <td>27-08-2022</td>\n",
       "      <td>Arsenal</td>\n",
       "      <td>2 - 1</td>\n",
       "      <td>Fulham</td>\n",
       "    </tr>\n",
       "    <tr>\n",
       "      <th>4</th>\n",
       "      <td>31-08-2022</td>\n",
       "      <td>Arsenal</td>\n",
       "      <td>2 - 1</td>\n",
       "      <td>Aston Villa</td>\n",
       "    </tr>\n",
       "  </tbody>\n",
       "</table>\n",
       "</div>"
      ],
      "text/plain": [
       "         Date       Home Team  Score    Away team\n",
       "0  05-08-2022  Crystal Palace  0 - 2      Arsenal\n",
       "1  13-08-2022         Arsenal  4 - 2    Leicester\n",
       "2  20-08-2022     Bournemouth  0 - 3      Arsenal\n",
       "3  27-08-2022         Arsenal  2 - 1       Fulham\n",
       "4  31-08-2022         Arsenal  2 - 1  Aston Villa"
      ]
     },
     "execution_count": 150,
     "metadata": {},
     "output_type": "execute_result"
    }
   ],
   "source": [
    "df = pd.DataFrame({'Date':data, 'Home Team':home_team, 'Score':score, 'Away team':away_team})\n",
    "df.head()"
   ]
  },
  {
   "cell_type": "markdown",
   "id": "9f848b6e-129a-4308-9641-c833a9358c68",
   "metadata": {},
   "source": [
    "#### RESULT STORED IN EXCEL"
   ]
  },
  {
   "cell_type": "code",
   "execution_count": 151,
   "id": "dda7172c-1e6e-4851-9734-81f8bbf74f1a",
   "metadata": {},
   "outputs": [],
   "source": [
    "df.to_csv('data.csv', index=False)"
   ]
  }
 ],
 "metadata": {
  "kernelspec": {
   "display_name": "Python 3 (ipykernel)",
   "language": "python",
   "name": "python3"
  },
  "language_info": {
   "codemirror_mode": {
    "name": "ipython",
    "version": 3
   },
   "file_extension": ".py",
   "mimetype": "text/x-python",
   "name": "python",
   "nbconvert_exporter": "python",
   "pygments_lexer": "ipython3",
   "version": "3.10.5"
  }
 },
 "nbformat": 4,
 "nbformat_minor": 5
}
