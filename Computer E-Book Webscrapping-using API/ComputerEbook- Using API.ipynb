{
 "cells": [
  {
   "cell_type": "markdown",
   "id": "a1270c74-bbea-4c76-9ba1-fb9647847d64",
   "metadata": {},
   "source": [
    "# COMPUTER E-BOOK DATA WEB SCRAPPING USING API"
   ]
  },
  {
   "cell_type": "markdown",
   "id": "1bb8120e-10b1-418f-af65-af748fa4a218",
   "metadata": {
    "tags": []
   },
   "source": [
    "#### IMPORT"
   ]
  },
  {
   "cell_type": "code",
   "execution_count": 113,
   "id": "52a9ce2b-5f0e-40b2-a34c-e5f795edd349",
   "metadata": {},
   "outputs": [],
   "source": [
    "import requests\n",
    "import pandas as pd"
   ]
  },
  {
   "cell_type": "markdown",
   "id": "9f3bd552-9bd4-4d25-b759-824a014e6020",
   "metadata": {},
   "source": [
    "#### REQUEST AND CURL"
   ]
  },
  {
   "cell_type": "code",
   "execution_count": 110,
   "id": "0cd19a24-2ed4-4d37-a53a-10c8151b5c98",
   "metadata": {},
   "outputs": [],
   "source": [
    "params = {\n",
    "    'CountryCode': 'US',\n",
    "    'subjectId': '13',\n",
    "}\n",
    "\n",
    "response = requests.get('https://www.ebooks.com/api/search/subject/', params=params)"
   ]
  },
  {
   "cell_type": "markdown",
   "id": "c0f0ebdd-56f2-441a-abbf-6a19c62292b0",
   "metadata": {},
   "source": [
    "#### CHECK STATUS OF CODE"
   ]
  },
  {
   "cell_type": "code",
   "execution_count": 108,
   "id": "3b6cface-d655-4f4c-b803-6bdc4e3bfa83",
   "metadata": {},
   "outputs": [
    {
     "data": {
      "text/plain": [
       "<Response [200]>"
      ]
     },
     "execution_count": 108,
     "metadata": {},
     "output_type": "execute_result"
    }
   ],
   "source": [
    "response"
   ]
  },
  {
   "cell_type": "markdown",
   "id": "a11824f9-f5c6-4203-8a23-e17a2498432d",
   "metadata": {},
   "source": [
    "#### CREATE JSON OBJECT"
   ]
  },
  {
   "cell_type": "code",
   "execution_count": 112,
   "id": "62c23b99-533b-424d-8454-f1da6782014a",
   "metadata": {
    "collapsed": true,
    "jupyter": {
     "outputs_hidden": true
    },
    "tags": []
   },
   "outputs": [
    {
     "data": {
      "text/plain": [
       "{'search_term': None,\n",
       " 'start_record': 1,\n",
       " 'total_results': 57410,\n",
       " 'books': [{'id': 210725183,\n",
       "   'book_url': '/en-us/book/210725183/rust-atomics-and-locks/mara-bos/',\n",
       "   'image_url': 'https://image.ebooks.com/cover/210725183.jpg?width=97&height=150&quality=85',\n",
       "   'image_alt_tag': 'Rust Atomics and Locks',\n",
       "   'src_set': ' https://image.ebooks.com/cover/210725183.jpg?width=97&height=150&quality=85 1x,  https://image.ebooks.com/cover/210725183.jpg?width=194&height=300&quality=85 2x,  https://image.ebooks.com/cover/210725183.jpg?width=291&height=450&quality=85 3x,  https://image.ebooks.com/cover/210725183.jpg?width=388&height=600&quality=85 4x',\n",
       "   'image_width': 97,\n",
       "   'image_height': 150,\n",
       "   'title': 'Rust Atomics and Locks',\n",
       "   'edition': '',\n",
       "   'subtitle': '',\n",
       "   'authors': [{'author_name': 'Mara Bos',\n",
       "     'author_url': '/en-us/author/mara-bos/208749041/'}],\n",
       "   'num_authors': 1,\n",
       "   'series': ' Series',\n",
       "   'series_number': '',\n",
       "   'has_series': False,\n",
       "   'series_url': '',\n",
       "   'publisher': \"O'Reilly Media\",\n",
       "   'publication_year': '2022',\n",
       "   'price': 'US$47.99',\n",
       "   'description': 'The Rust programming language is extremely well suited for concurrency, and its ecosystem has many libraries that include lots of concurrent data structures, locks, and more. But implementing those structures correctly can be very difficult. Even in the most well-used libraries, memory ordering bugs are not uncommon.  In this practical book, Mara...',\n",
       "   'is_preorder': False,\n",
       "   'is_available': True,\n",
       "   'preorder_url': '/account/preorder/?bookId=210725183',\n",
       "   'add_to_cart_url': '/cart/add/210725183/',\n",
       "   'currency_symbol': 'US$',\n",
       "   'price_number': 47.99,\n",
       "   'on_sale_date': '2022-12-14T00:00:00',\n",
       "   'short_publication_date': 'Dec 2022'},\n",
       "  {'id': 210670147,\n",
       "   'book_url': '/en-us/book/210670147/the-staff-engineer-s-path/tanya-reilly/',\n",
       "   'image_url': 'https://image.ebooks.com/cover/210670147.jpg?width=97&height=150&quality=85',\n",
       "   'image_alt_tag': 'The Staff Engineer&#x27;s Path',\n",
       "   'src_set': ' https://image.ebooks.com/cover/210670147.jpg?width=97&height=150&quality=85 1x,  https://image.ebooks.com/cover/210670147.jpg?width=194&height=300&quality=85 2x,  https://image.ebooks.com/cover/210670147.jpg?width=291&height=450&quality=85 3x,  https://image.ebooks.com/cover/210670147.jpg?width=388&height=600&quality=85 4x',\n",
       "   'image_width': 97,\n",
       "   'image_height': 150,\n",
       "   'title': \"The Staff Engineer's Path\",\n",
       "   'edition': '',\n",
       "   'subtitle': '',\n",
       "   'authors': [{'author_name': 'Tanya Reilly',\n",
       "     'author_url': '/en-us/author/tanya-reilly/208722527/'}],\n",
       "   'num_authors': 1,\n",
       "   'series': ' Series',\n",
       "   'series_number': '',\n",
       "   'has_series': False,\n",
       "   'series_url': '',\n",
       "   'publisher': \"O'Reilly Media\",\n",
       "   'publication_year': '2022',\n",
       "   'price': 'US$33.99',\n",
       "   'description': \"For years, companies have rewarded their most effective engineers with management positions. But treating management as the default path for an engineer with leadership ability doesn't serve the industry well--or the engineer. The staff engineer's path allows engineers to contribute at a high level as role models, driving big projects, determining...\",\n",
       "   'is_preorder': False,\n",
       "   'is_available': True,\n",
       "   'preorder_url': '/account/preorder/?bookId=210670147',\n",
       "   'add_to_cart_url': '/cart/add/210670147/',\n",
       "   'currency_symbol': 'US$',\n",
       "   'price_number': 33.99,\n",
       "   'on_sale_date': '2022-09-20T00:00:00',\n",
       "   'short_publication_date': 'Sep 2022'},\n",
       "  {'id': 210681725,\n",
       "   'book_url': '/en-us/book/210681725/hands-on-machine-learning-with-scikit-learn-keras-and-tensorflow/aur-lien-g-ron/',\n",
       "   'image_url': 'https://image.ebooks.com/cover/210681725.jpg?width=97&height=150&quality=85',\n",
       "   'image_alt_tag': 'Hands-On Machine Learning with Scikit-Learn, Keras, and TensorFlow',\n",
       "   'src_set': ' https://image.ebooks.com/cover/210681725.jpg?width=97&height=150&quality=85 1x,  https://image.ebooks.com/cover/210681725.jpg?width=194&height=300&quality=85 2x,  https://image.ebooks.com/cover/210681725.jpg?width=291&height=450&quality=85 3x,  https://image.ebooks.com/cover/210681725.jpg?width=388&height=600&quality=85 4x',\n",
       "   'image_width': 97,\n",
       "   'image_height': 150,\n",
       "   'title': 'Hands-On Machine Learning with Scikit-Learn, Keras, and TensorFlow',\n",
       "   'edition': ' (3rd ed.)',\n",
       "   'subtitle': '',\n",
       "   'authors': [{'author_name': 'Aurélien Géron',\n",
       "     'author_url': '/en-us/author/aurélien-géron/1320636/'}],\n",
       "   'num_authors': 1,\n",
       "   'series': ' Series',\n",
       "   'series_number': '',\n",
       "   'has_series': False,\n",
       "   'series_url': '',\n",
       "   'publisher': \"O'Reilly Media\",\n",
       "   'publication_year': '2022',\n",
       "   'price': 'US$76.99',\n",
       "   'description': 'Through a recent series of breakthroughs, deep learning has boosted the entire field of machine learning. Now, even programmers who know close to nothing about this technology can use simple, efficient tools to implement programs capable of learning from data. This bestselling book uses concrete examples, minimal theory, and production-ready Python...',\n",
       "   'is_preorder': False,\n",
       "   'is_available': True,\n",
       "   'preorder_url': '/account/preorder/?bookId=210681725',\n",
       "   'add_to_cart_url': '/cart/add/210681725/',\n",
       "   'currency_symbol': 'US$',\n",
       "   'price_number': 76.99,\n",
       "   'on_sale_date': '2022-10-04T00:00:00',\n",
       "   'short_publication_date': 'Oct 2022'},\n",
       "  {'id': 210531368,\n",
       "   'book_url': '/en-us/book/210531368/fluent-python/luciano-ramalho/',\n",
       "   'image_url': 'https://image.ebooks.com/cover/210531368.jpg?width=97&height=150&quality=85',\n",
       "   'image_alt_tag': 'Fluent Python',\n",
       "   'src_set': ' https://image.ebooks.com/cover/210531368.jpg?width=97&height=150&quality=85 1x,  https://image.ebooks.com/cover/210531368.jpg?width=194&height=300&quality=85 2x,  https://image.ebooks.com/cover/210531368.jpg?width=291&height=450&quality=85 3x,  https://image.ebooks.com/cover/210531368.jpg?width=388&height=600&quality=85 4x',\n",
       "   'image_width': 97,\n",
       "   'image_height': 150,\n",
       "   'title': 'Fluent Python',\n",
       "   'edition': ' (2nd ed.)',\n",
       "   'subtitle': '',\n",
       "   'authors': [{'author_name': 'Luciano Ramalho',\n",
       "     'author_url': '/en-us/author/luciano-ramalho/983436/'}],\n",
       "   'num_authors': 1,\n",
       "   'series': ' Series',\n",
       "   'series_number': '',\n",
       "   'has_series': False,\n",
       "   'series_url': '',\n",
       "   'publisher': \"O'Reilly Media\",\n",
       "   'publication_year': '2022',\n",
       "   'price': 'US$67.99',\n",
       "   'description': \"Don't waste time bending Python to fit patterns you've learned in other languages. Python's simplicity lets you become productive quickly, but often this means you aren't using everything the language has to offer. With the updated edition of this hands-on guide, you'll learn how to write effective, modern Python 3 code by leveraging its best...\",\n",
       "   'is_preorder': False,\n",
       "   'is_available': True,\n",
       "   'preorder_url': '/account/preorder/?bookId=210531368',\n",
       "   'add_to_cart_url': '/cart/add/210531368/',\n",
       "   'currency_symbol': 'US$',\n",
       "   'price_number': 67.99,\n",
       "   'on_sale_date': '2022-03-31T00:00:00',\n",
       "   'short_publication_date': 'Mar 2022'},\n",
       "  {'id': 210669494,\n",
       "   'book_url': '/en-us/book/210669494/terraform-up-and-running/yevgeniy-brikman/',\n",
       "   'image_url': 'https://image.ebooks.com/cover/210669494.jpg?width=97&height=150&quality=85',\n",
       "   'image_alt_tag': 'Terraform: Up and Running',\n",
       "   'src_set': ' https://image.ebooks.com/cover/210669494.jpg?width=97&height=150&quality=85 1x,  https://image.ebooks.com/cover/210669494.jpg?width=194&height=300&quality=85 2x,  https://image.ebooks.com/cover/210669494.jpg?width=291&height=450&quality=85 3x,  https://image.ebooks.com/cover/210669494.jpg?width=388&height=600&quality=85 4x',\n",
       "   'image_width': 97,\n",
       "   'image_height': 150,\n",
       "   'title': 'Terraform: Up and Running',\n",
       "   'edition': ' (3rd ed.)',\n",
       "   'subtitle': '',\n",
       "   'authors': [{'author_name': 'Yevgeniy Brikman',\n",
       "     'author_url': '/en-us/author/yevgeniy-brikman/1005582/'}],\n",
       "   'num_authors': 1,\n",
       "   'series': ' Series',\n",
       "   'series_number': '',\n",
       "   'has_series': False,\n",
       "   'series_url': '',\n",
       "   'publisher': \"O'Reilly Media\",\n",
       "   'publication_year': '2022',\n",
       "   'price': 'US$56.99',\n",
       "   'description': 'Terraform has become a key player in the DevOps world for defining, launching, and managing infrastructure as code (IaC) across a variety of cloud and virtualization platforms, including AWS, Google Cloud, Azure, and more. This hands-on third edition, expanded and thoroughly updated for version 1.0 and beyond, shows you the fastest way to get up...',\n",
       "   'is_preorder': False,\n",
       "   'is_available': True,\n",
       "   'preorder_url': '/account/preorder/?bookId=210669494',\n",
       "   'add_to_cart_url': '/cart/add/210669494/',\n",
       "   'currency_symbol': 'US$',\n",
       "   'price_number': 56.99,\n",
       "   'on_sale_date': '2022-09-19T00:00:00',\n",
       "   'short_publication_date': 'Sep 2022'},\n",
       "  {'id': 210595152,\n",
       "   'book_url': '/en-us/book/210595152/fundamentals-of-data-engineering/joe-reis/',\n",
       "   'image_url': 'https://image.ebooks.com/cover/210595152.jpg?width=97&height=150&quality=85',\n",
       "   'image_alt_tag': 'Fundamentals of Data Engineering',\n",
       "   'src_set': ' https://image.ebooks.com/cover/210595152.jpg?width=97&height=150&quality=85 1x,  https://image.ebooks.com/cover/210595152.jpg?width=194&height=300&quality=85 2x,  https://image.ebooks.com/cover/210595152.jpg?width=291&height=450&quality=85 3x,  https://image.ebooks.com/cover/210595152.jpg?width=388&height=600&quality=85 4x',\n",
       "   'image_width': 97,\n",
       "   'image_height': 150,\n",
       "   'title': 'Fundamentals of Data Engineering',\n",
       "   'edition': '',\n",
       "   'subtitle': '',\n",
       "   'authors': [{'author_name': 'Joe Reis',\n",
       "     'author_url': '/en-us/author/joe-reis/208694572/'},\n",
       "    {'author_name': 'Matt Housley',\n",
       "     'author_url': '/en-us/author/matt-housley/208694573/'}],\n",
       "   'num_authors': 2,\n",
       "   'series': ' Series',\n",
       "   'series_number': '',\n",
       "   'has_series': False,\n",
       "   'series_url': '',\n",
       "   'publisher': \"O'Reilly Media\",\n",
       "   'publication_year': '2022',\n",
       "   'price': 'US$67.99',\n",
       "   'description': \"Data engineering has grown rapidly in the past decade, leaving many software engineers, data scientists, and analysts looking for a comprehensive view of this practice. With this practical book, you'll learn how to plan and build systems to serve the needs of your organization and customers by evaluating the best technologies available through the...\",\n",
       "   'is_preorder': False,\n",
       "   'is_available': True,\n",
       "   'preorder_url': '/account/preorder/?bookId=210595152',\n",
       "   'add_to_cart_url': '/cart/add/210595152/',\n",
       "   'currency_symbol': 'US$',\n",
       "   'price_number': 67.99,\n",
       "   'on_sale_date': '2022-06-22T00:00:00',\n",
       "   'short_publication_date': 'Jun 2022'},\n",
       "  {'id': 95729334,\n",
       "   'book_url': '/en-us/book/95729334/designing-data-intensive-applications/martin-kleppmann/',\n",
       "   'image_url': 'https://image.ebooks.com/cover/95729334.jpg?width=97&height=150&quality=85',\n",
       "   'image_alt_tag': 'Designing Data-Intensive Applications: The Big Ideas Behind Reliable, Scalable, and Maintainable Systems',\n",
       "   'src_set': ' https://image.ebooks.com/cover/95729334.jpg?width=97&height=150&quality=85 1x,  https://image.ebooks.com/cover/95729334.jpg?width=194&height=300&quality=85 2x,  https://image.ebooks.com/cover/95729334.jpg?width=291&height=450&quality=85 3x,  https://image.ebooks.com/cover/95729334.jpg?width=388&height=600&quality=85 4x',\n",
       "   'image_width': 97,\n",
       "   'image_height': 150,\n",
       "   'title': 'Designing Data-Intensive Applications',\n",
       "   'edition': '',\n",
       "   'subtitle': 'The Big Ideas Behind Reliable, Scalable, and Maintainable Systems',\n",
       "   'authors': [{'author_name': 'Martin Kleppmann',\n",
       "     'author_url': '/en-us/author/martin-kleppmann/1321307/'}],\n",
       "   'num_authors': 1,\n",
       "   'series': ' Series',\n",
       "   'series_number': '',\n",
       "   'has_series': False,\n",
       "   'series_url': '',\n",
       "   'publisher': \"O'Reilly Media\",\n",
       "   'publication_year': '2017',\n",
       "   'price': 'US$50.99',\n",
       "   'description': 'Data is at the center of many challenges in system design today. Difficult issues need to be figured out, such as scalability, consistency, reliability, efficiency, and maintainability. In addition, we have an overwhelming variety of tools, including relational databases, NoSQL datastores, stream or batch processors, and message brokers. What are...',\n",
       "   'is_preorder': False,\n",
       "   'is_available': True,\n",
       "   'preorder_url': '/account/preorder/?bookId=95729334',\n",
       "   'add_to_cart_url': '/cart/add/95729334/',\n",
       "   'currency_symbol': 'US$',\n",
       "   'price_number': 50.99,\n",
       "   'on_sale_date': '2017-03-16T00:00:00',\n",
       "   'short_publication_date': 'Mar 2017'},\n",
       "  {'id': 210644288,\n",
       "   'book_url': '/en-us/book/210644288/python-for-data-analysis/wes-mckinney/',\n",
       "   'image_url': 'https://image.ebooks.com/cover/210644288.jpg?width=97&height=150&quality=85',\n",
       "   'image_alt_tag': 'Python for Data Analysis',\n",
       "   'src_set': ' https://image.ebooks.com/cover/210644288.jpg?width=97&height=150&quality=85 1x,  https://image.ebooks.com/cover/210644288.jpg?width=194&height=300&quality=85 2x,  https://image.ebooks.com/cover/210644288.jpg?width=291&height=450&quality=85 3x,  https://image.ebooks.com/cover/210644288.jpg?width=388&height=600&quality=85 4x',\n",
       "   'image_width': 97,\n",
       "   'image_height': 150,\n",
       "   'title': 'Python for Data Analysis',\n",
       "   'edition': ' (3rd ed.)',\n",
       "   'subtitle': '',\n",
       "   'authors': [{'author_name': 'Wes McKinney',\n",
       "     'author_url': '/en-us/author/wes-mckinney/513179/'}],\n",
       "   'num_authors': 1,\n",
       "   'series': ' Series',\n",
       "   'series_number': '',\n",
       "   'has_series': False,\n",
       "   'series_url': '',\n",
       "   'publisher': \"O'Reilly Media\",\n",
       "   'publication_year': '2022',\n",
       "   'price': 'US$67.99',\n",
       "   'description': \"Get the definitive handbook for manipulating, processing, cleaning, and crunching datasets in Python. Updated for Python 3.10 and pandas 1.4, the third edition of this hands-on guide is packed with practical case studies that show you how to solve a broad set of data analysis problems effectively. You'll learn the latest versions of pandas, NumPy,...\",\n",
       "   'is_preorder': False,\n",
       "   'is_available': True,\n",
       "   'preorder_url': '/account/preorder/?bookId=210644288',\n",
       "   'add_to_cart_url': '/cart/add/210644288/',\n",
       "   'currency_symbol': 'US$',\n",
       "   'price_number': 67.99,\n",
       "   'on_sale_date': '2022-08-12T00:00:00',\n",
       "   'short_publication_date': 'Aug 2022'},\n",
       "  {'id': 210338899,\n",
       "   'book_url': '/en-us/book/210338899/building-microservices/sam-newman/',\n",
       "   'image_url': 'https://image.ebooks.com/cover/210338899.jpg?width=97&height=150&quality=85',\n",
       "   'image_alt_tag': 'Building Microservices',\n",
       "   'src_set': ' https://image.ebooks.com/cover/210338899.jpg?width=97&height=150&quality=85 1x,  https://image.ebooks.com/cover/210338899.jpg?width=194&height=300&quality=85 2x,  https://image.ebooks.com/cover/210338899.jpg?width=291&height=450&quality=85 3x,  https://image.ebooks.com/cover/210338899.jpg?width=388&height=600&quality=85 4x',\n",
       "   'image_width': 97,\n",
       "   'image_height': 150,\n",
       "   'title': 'Building Microservices',\n",
       "   'edition': ' (2nd ed.)',\n",
       "   'subtitle': '',\n",
       "   'authors': [{'author_name': 'Sam Newman',\n",
       "     'author_url': '/en-us/author/sam-newman/748359/'}],\n",
       "   'num_authors': 1,\n",
       "   'series': ' Series',\n",
       "   'series_number': '',\n",
       "   'has_series': False,\n",
       "   'series_url': '',\n",
       "   'publisher': \"O'Reilly Media\",\n",
       "   'publication_year': '2021',\n",
       "   'price': 'US$59.99',\n",
       "   'description': 'As organizations shift from monolithic applications to smaller, self-contained microservices, distributed systems have become more fine-grained. But developing these new systems brings its own host of problems. This expanded second edition takes a holistic view of topics that you need to consider when building, managing, and scaling microservices...',\n",
       "   'is_preorder': False,\n",
       "   'is_available': True,\n",
       "   'preorder_url': '/account/preorder/?bookId=210338899',\n",
       "   'add_to_cart_url': '/cart/add/210338899/',\n",
       "   'currency_symbol': 'US$',\n",
       "   'price_number': 59.99,\n",
       "   'on_sale_date': '2021-07-24T00:00:00',\n",
       "   'short_publication_date': 'Jul 2021'},\n",
       "  {'id': 209933784,\n",
       "   'book_url': '/en-us/book/209933784/fundamentals-of-software-architecture/mark-richards/',\n",
       "   'image_url': 'https://image.ebooks.com/cover/209933784.jpg?width=97&height=150&quality=85',\n",
       "   'image_alt_tag': 'Fundamentals of Software Architecture: An Engineering Approach',\n",
       "   'src_set': ' https://image.ebooks.com/cover/209933784.jpg?width=97&height=150&quality=85 1x,  https://image.ebooks.com/cover/209933784.jpg?width=194&height=300&quality=85 2x,  https://image.ebooks.com/cover/209933784.jpg?width=291&height=450&quality=85 3x,  https://image.ebooks.com/cover/209933784.jpg?width=388&height=600&quality=85 4x',\n",
       "   'image_width': 97,\n",
       "   'image_height': 150,\n",
       "   'title': 'Fundamentals of Software Architecture',\n",
       "   'edition': '',\n",
       "   'subtitle': 'An Engineering Approach',\n",
       "   'authors': [{'author_name': 'Mark Richards',\n",
       "     'author_url': '/en-us/author/mark-richards/183013/'},\n",
       "    {'author_name': 'Neal Ford',\n",
       "     'author_url': '/en-us/author/neal-ford/182946/'}],\n",
       "   'num_authors': 2,\n",
       "   'series': ' Series',\n",
       "   'series_number': '',\n",
       "   'has_series': False,\n",
       "   'series_url': '',\n",
       "   'publisher': \"O'Reilly Media\",\n",
       "   'publication_year': '2020',\n",
       "   'price': 'US$59.99',\n",
       "   'description': 'Salary surveys worldwide regularly place software architect in the top 10 best jobs, yet no real guide exists to help developers become architects. Until now. This book provides the first comprehensive overview of software architecture’s many aspects. Aspiring and existing architects alike will examine architectural characteristics, architectural...',\n",
       "   'is_preorder': False,\n",
       "   'is_available': True,\n",
       "   'preorder_url': '/account/preorder/?bookId=209933784',\n",
       "   'add_to_cart_url': '/cart/add/209933784/',\n",
       "   'currency_symbol': 'US$',\n",
       "   'price_number': 59.99,\n",
       "   'on_sale_date': '2020-01-28T00:00:00',\n",
       "   'short_publication_date': 'Jan 2020'}],\n",
       " 'pages': [{'number': '1',\n",
       "   'is_selected': True,\n",
       "   'show_mobile': True,\n",
       "   'show_tablet': True,\n",
       "   'search_url': '/en-us/subjects/computers/'},\n",
       "  {'number': '2',\n",
       "   'is_selected': False,\n",
       "   'show_mobile': True,\n",
       "   'show_tablet': True,\n",
       "   'search_url': '/en-us/subjects/computers/?pageNumber=2'},\n",
       "  {'number': '3',\n",
       "   'is_selected': False,\n",
       "   'show_mobile': True,\n",
       "   'show_tablet': True,\n",
       "   'search_url': '/en-us/subjects/computers/?pageNumber=3'},\n",
       "  {'number': '4',\n",
       "   'is_selected': False,\n",
       "   'show_mobile': True,\n",
       "   'show_tablet': True,\n",
       "   'search_url': '/en-us/subjects/computers/?pageNumber=4'},\n",
       "  {'number': '5',\n",
       "   'is_selected': False,\n",
       "   'show_mobile': True,\n",
       "   'show_tablet': True,\n",
       "   'search_url': '/en-us/subjects/computers/?pageNumber=5'},\n",
       "  {'number': '6',\n",
       "   'is_selected': False,\n",
       "   'show_mobile': False,\n",
       "   'show_tablet': True,\n",
       "   'search_url': '/en-us/subjects/computers/?pageNumber=6'},\n",
       "  {'number': '7',\n",
       "   'is_selected': False,\n",
       "   'show_mobile': False,\n",
       "   'show_tablet': True,\n",
       "   'search_url': '/en-us/subjects/computers/?pageNumber=7'},\n",
       "  {'number': '8',\n",
       "   'is_selected': False,\n",
       "   'show_mobile': False,\n",
       "   'show_tablet': True,\n",
       "   'search_url': '/en-us/subjects/computers/?pageNumber=8'},\n",
       "  {'number': '9',\n",
       "   'is_selected': False,\n",
       "   'show_mobile': False,\n",
       "   'show_tablet': False,\n",
       "   'search_url': '/en-us/subjects/computers/?pageNumber=9'}],\n",
       " 'previous_page': None,\n",
       " 'next_page': '/en-us/subjects/computers/?pageNumber=2'}"
      ]
     },
     "execution_count": 112,
     "metadata": {},
     "output_type": "execute_result"
    }
   ],
   "source": [
    "response.json()"
   ]
  },
  {
   "cell_type": "code",
   "execution_count": 22,
   "id": "30ad58b0-87d2-4240-8fa2-902a789aded0",
   "metadata": {},
   "outputs": [
    {
     "data": {
      "text/plain": [
       "dict"
      ]
     },
     "execution_count": 22,
     "metadata": {},
     "output_type": "execute_result"
    }
   ],
   "source": [
    "type(response.json())"
   ]
  },
  {
   "cell_type": "markdown",
   "id": "975bc63c-3cba-4731-8f04-7e24dc6b3a45",
   "metadata": {},
   "source": [
    "#### OUTPUT KEYS"
   ]
  },
  {
   "cell_type": "code",
   "execution_count": 23,
   "id": "d3c50330-54ad-4346-aa1f-576d546780c0",
   "metadata": {},
   "outputs": [
    {
     "data": {
      "text/plain": [
       "dict_keys(['search_term', 'start_record', 'total_results', 'books', 'pages', 'previous_page', 'next_page'])"
      ]
     },
     "execution_count": 23,
     "metadata": {},
     "output_type": "execute_result"
    }
   ],
   "source": [
    "response.json().keys()"
   ]
  },
  {
   "cell_type": "markdown",
   "id": "92b6da66-b656-4ebb-8d7d-a83eecb691a9",
   "metadata": {},
   "source": [
    "#### NEED TO FIND BELOW DATA\n",
    "\n",
    "##### Title\n",
    "##### Auther\n",
    "##### Publisher\n",
    "##### Publication year\n",
    "##### Price"
   ]
  },
  {
   "cell_type": "code",
   "execution_count": 35,
   "id": "843981bc-044d-4cac-b71f-c1188fd0d1a4",
   "metadata": {
    "tags": []
   },
   "outputs": [
    {
     "data": {
      "text/plain": [
       "{'id': 210725183,\n",
       " 'book_url': '/en-us/book/210725183/rust-atomics-and-locks/mara-bos/',\n",
       " 'image_url': 'https://image.ebooks.com/cover/210725183.jpg?width=97&height=150&quality=85',\n",
       " 'image_alt_tag': 'Rust Atomics and Locks',\n",
       " 'src_set': ' https://image.ebooks.com/cover/210725183.jpg?width=97&height=150&quality=85 1x,  https://image.ebooks.com/cover/210725183.jpg?width=194&height=300&quality=85 2x,  https://image.ebooks.com/cover/210725183.jpg?width=291&height=450&quality=85 3x,  https://image.ebooks.com/cover/210725183.jpg?width=388&height=600&quality=85 4x',\n",
       " 'image_width': 97,\n",
       " 'image_height': 150,\n",
       " 'title': 'Rust Atomics and Locks',\n",
       " 'edition': '',\n",
       " 'subtitle': '',\n",
       " 'authors': [{'author_name': 'Mara Bos',\n",
       "   'author_url': '/en-us/author/mara-bos/208749041/'}],\n",
       " 'num_authors': 1,\n",
       " 'series': ' Series',\n",
       " 'series_number': '',\n",
       " 'has_series': False,\n",
       " 'series_url': '',\n",
       " 'publisher': \"O'Reilly Media\",\n",
       " 'publication_year': '2022',\n",
       " 'price': 'US$47.99',\n",
       " 'description': 'The Rust programming language is extremely well suited for concurrency, and its ecosystem has many libraries that include lots of concurrent data structures, locks, and more. But implementing those structures correctly can be very difficult. Even in the most well-used libraries, memory ordering bugs are not uncommon.  In this practical book, Mara...',\n",
       " 'is_preorder': False,\n",
       " 'is_available': True,\n",
       " 'preorder_url': '/account/preorder/?bookId=210725183',\n",
       " 'add_to_cart_url': '/cart/add/210725183/',\n",
       " 'currency_symbol': 'US$',\n",
       " 'price_number': 47.99,\n",
       " 'on_sale_date': '2022-12-14T00:00:00',\n",
       " 'short_publication_date': 'Dec 2022'}"
      ]
     },
     "execution_count": 35,
     "metadata": {},
     "output_type": "execute_result"
    }
   ],
   "source": [
    "response.json()['books'][0]"
   ]
  },
  {
   "cell_type": "code",
   "execution_count": 36,
   "id": "61528f9e-e0af-416b-807a-0ad6cf01d85f",
   "metadata": {},
   "outputs": [
    {
     "data": {
      "text/plain": [
       "10"
      ]
     },
     "execution_count": 36,
     "metadata": {},
     "output_type": "execute_result"
    }
   ],
   "source": [
    "len(response.json()['books'])"
   ]
  },
  {
   "cell_type": "code",
   "execution_count": 28,
   "id": "65b99176-9df9-41e1-89ec-6dd38a6152e2",
   "metadata": {},
   "outputs": [],
   "source": [
    "results_jsons = response.json()['books']"
   ]
  },
  {
   "cell_type": "code",
   "execution_count": 30,
   "id": "f0aaf6b3-9f3e-41a5-8cbc-f27fa07fd343",
   "metadata": {},
   "outputs": [
    {
     "data": {
      "text/plain": [
       "'Rust Atomics and Locks'"
      ]
     },
     "execution_count": 30,
     "metadata": {},
     "output_type": "execute_result"
    }
   ],
   "source": [
    "# Title\n",
    "\n",
    "results_jsons[0]['title']"
   ]
  },
  {
   "cell_type": "code",
   "execution_count": 49,
   "id": "55304821-e60f-431a-96f4-e024033bb259",
   "metadata": {},
   "outputs": [
    {
     "data": {
      "text/plain": [
       "'Mara Bos'"
      ]
     },
     "execution_count": 49,
     "metadata": {},
     "output_type": "execute_result"
    }
   ],
   "source": [
    "# Auther\n",
    "\n",
    "results_jsons[0]['authors'][0]['author_name']"
   ]
  },
  {
   "cell_type": "code",
   "execution_count": 51,
   "id": "30929254-2473-4797-9177-211b53616aef",
   "metadata": {},
   "outputs": [
    {
     "data": {
      "text/plain": [
       "\"O'Reilly Media\""
      ]
     },
     "execution_count": 51,
     "metadata": {},
     "output_type": "execute_result"
    }
   ],
   "source": [
    "# Publisher\n",
    "\n",
    "results_jsons[0]['publisher']"
   ]
  },
  {
   "cell_type": "code",
   "execution_count": 52,
   "id": "c783a628-a3db-4f0a-9a9f-965ef68979ee",
   "metadata": {},
   "outputs": [
    {
     "data": {
      "text/plain": [
       "'2022'"
      ]
     },
     "execution_count": 52,
     "metadata": {},
     "output_type": "execute_result"
    }
   ],
   "source": [
    "# Publication year\n",
    "\n",
    "results_jsons[0]['publication_year']"
   ]
  },
  {
   "cell_type": "code",
   "execution_count": 53,
   "id": "b260a270-4c43-4559-9d9b-85b2dee63cca",
   "metadata": {},
   "outputs": [
    {
     "data": {
      "text/plain": [
       "'US$47.99'"
      ]
     },
     "execution_count": 53,
     "metadata": {},
     "output_type": "execute_result"
    }
   ],
   "source": [
    "# Price\n",
    "\n",
    "results_jsons[0]['price']"
   ]
  },
  {
   "cell_type": "code",
   "execution_count": 94,
   "id": "81879f23-588e-4e3f-acfb-7faa3d9f50ef",
   "metadata": {},
   "outputs": [],
   "source": [
    "# putting everything together - Loop through the result and append inside a list\n",
    "\n",
    "Title = []\n",
    "Auther = []\n",
    "Publisher = []\n",
    "Publication_year = []\n",
    "Price = []\n",
    "\n",
    "for i in response.json()['books']:\n",
    "    \n",
    "    #title\n",
    "    Title.append(i['title'])\n",
    "    \n",
    "    # Auther\n",
    "    Auther.append(i['authors'][0]['author_name'])\n",
    "    \n",
    "    # Publisher\n",
    "    Publisher.append(i['publisher'])\n",
    "    \n",
    "    # Publication_year\n",
    "    Publication_year.append(i['publication_year'])\n",
    "    \n",
    "    #price\n",
    "    Price.append(i['price'])\n",
    "    "
   ]
  },
  {
   "cell_type": "code",
   "execution_count": 95,
   "id": "2e878302-20cd-4332-8c21-91f9c749116f",
   "metadata": {
    "tags": []
   },
   "outputs": [
    {
     "data": {
      "text/plain": [
       "['Rust Atomics and Locks',\n",
       " \"The Staff Engineer's Path\",\n",
       " 'Hands-On Machine Learning with Scikit-Learn, Keras, and TensorFlow',\n",
       " 'Fluent Python',\n",
       " 'Terraform: Up and Running',\n",
       " 'Fundamentals of Data Engineering',\n",
       " 'Designing Data-Intensive Applications',\n",
       " 'Python for Data Analysis',\n",
       " 'Building Microservices',\n",
       " 'Fundamentals of Software Architecture']"
      ]
     },
     "execution_count": 95,
     "metadata": {},
     "output_type": "execute_result"
    }
   ],
   "source": [
    "Title"
   ]
  },
  {
   "cell_type": "code",
   "execution_count": 96,
   "id": "d8735283-aed6-451c-8898-0d38fb61fe70",
   "metadata": {
    "tags": []
   },
   "outputs": [
    {
     "data": {
      "text/plain": [
       "['US$47.99',\n",
       " 'US$33.99',\n",
       " 'US$76.99',\n",
       " 'US$67.99',\n",
       " 'US$56.99',\n",
       " 'US$67.99',\n",
       " 'US$50.99',\n",
       " 'US$67.99',\n",
       " 'US$59.99',\n",
       " 'US$59.99']"
      ]
     },
     "execution_count": 96,
     "metadata": {},
     "output_type": "execute_result"
    }
   ],
   "source": [
    "Price"
   ]
  },
  {
   "cell_type": "code",
   "execution_count": 97,
   "id": "d6dcb280-b507-4665-93d0-91aef8229432",
   "metadata": {},
   "outputs": [
    {
     "data": {
      "text/plain": [
       "['Mara Bos',\n",
       " 'Tanya Reilly',\n",
       " 'Aurélien Géron',\n",
       " 'Luciano Ramalho',\n",
       " 'Yevgeniy Brikman',\n",
       " 'Joe Reis',\n",
       " 'Martin Kleppmann',\n",
       " 'Wes McKinney',\n",
       " 'Sam Newman',\n",
       " 'Mark Richards']"
      ]
     },
     "execution_count": 97,
     "metadata": {},
     "output_type": "execute_result"
    }
   ],
   "source": [
    "Auther"
   ]
  },
  {
   "cell_type": "markdown",
   "id": "4dc9b939-70e8-4f96-96e3-3c4d2a2cc969",
   "metadata": {},
   "source": [
    "#### PANDAS DATAFRAME"
   ]
  },
  {
   "cell_type": "code",
   "execution_count": 117,
   "id": "6e638d4e-8c39-4a18-ae89-d6cf7c3107b7",
   "metadata": {},
   "outputs": [],
   "source": [
    "df = pd.DataFrame({'Title': Title, 'Auther': Auther, 'Publisher': Publisher, 'Publication year': Publication_year, 'Price': Price})"
   ]
  },
  {
   "cell_type": "code",
   "execution_count": 118,
   "id": "c5f6d3f6-f280-4f10-9e54-ce39000513a5",
   "metadata": {},
   "outputs": [
    {
     "data": {
      "text/html": [
       "<div>\n",
       "<style scoped>\n",
       "    .dataframe tbody tr th:only-of-type {\n",
       "        vertical-align: middle;\n",
       "    }\n",
       "\n",
       "    .dataframe tbody tr th {\n",
       "        vertical-align: top;\n",
       "    }\n",
       "\n",
       "    .dataframe thead th {\n",
       "        text-align: right;\n",
       "    }\n",
       "</style>\n",
       "<table border=\"1\" class=\"dataframe\">\n",
       "  <thead>\n",
       "    <tr style=\"text-align: right;\">\n",
       "      <th></th>\n",
       "      <th>Title</th>\n",
       "      <th>Auther</th>\n",
       "      <th>Publisher</th>\n",
       "      <th>Publication year</th>\n",
       "      <th>Price</th>\n",
       "    </tr>\n",
       "  </thead>\n",
       "  <tbody>\n",
       "    <tr>\n",
       "      <th>0</th>\n",
       "      <td>Rust Atomics and Locks</td>\n",
       "      <td>Mara Bos</td>\n",
       "      <td>O'Reilly Media</td>\n",
       "      <td>2022</td>\n",
       "      <td>US$47.99</td>\n",
       "    </tr>\n",
       "    <tr>\n",
       "      <th>1</th>\n",
       "      <td>The Staff Engineer's Path</td>\n",
       "      <td>Tanya Reilly</td>\n",
       "      <td>O'Reilly Media</td>\n",
       "      <td>2022</td>\n",
       "      <td>US$33.99</td>\n",
       "    </tr>\n",
       "    <tr>\n",
       "      <th>2</th>\n",
       "      <td>Hands-On Machine Learning with Scikit-Learn, K...</td>\n",
       "      <td>Aurélien Géron</td>\n",
       "      <td>O'Reilly Media</td>\n",
       "      <td>2022</td>\n",
       "      <td>US$76.99</td>\n",
       "    </tr>\n",
       "    <tr>\n",
       "      <th>3</th>\n",
       "      <td>Fluent Python</td>\n",
       "      <td>Luciano Ramalho</td>\n",
       "      <td>O'Reilly Media</td>\n",
       "      <td>2022</td>\n",
       "      <td>US$67.99</td>\n",
       "    </tr>\n",
       "    <tr>\n",
       "      <th>4</th>\n",
       "      <td>Terraform: Up and Running</td>\n",
       "      <td>Yevgeniy Brikman</td>\n",
       "      <td>O'Reilly Media</td>\n",
       "      <td>2022</td>\n",
       "      <td>US$56.99</td>\n",
       "    </tr>\n",
       "    <tr>\n",
       "      <th>5</th>\n",
       "      <td>Fundamentals of Data Engineering</td>\n",
       "      <td>Joe Reis</td>\n",
       "      <td>O'Reilly Media</td>\n",
       "      <td>2022</td>\n",
       "      <td>US$67.99</td>\n",
       "    </tr>\n",
       "    <tr>\n",
       "      <th>6</th>\n",
       "      <td>Designing Data-Intensive Applications</td>\n",
       "      <td>Martin Kleppmann</td>\n",
       "      <td>O'Reilly Media</td>\n",
       "      <td>2017</td>\n",
       "      <td>US$50.99</td>\n",
       "    </tr>\n",
       "    <tr>\n",
       "      <th>7</th>\n",
       "      <td>Python for Data Analysis</td>\n",
       "      <td>Wes McKinney</td>\n",
       "      <td>O'Reilly Media</td>\n",
       "      <td>2022</td>\n",
       "      <td>US$67.99</td>\n",
       "    </tr>\n",
       "    <tr>\n",
       "      <th>8</th>\n",
       "      <td>Building Microservices</td>\n",
       "      <td>Sam Newman</td>\n",
       "      <td>O'Reilly Media</td>\n",
       "      <td>2021</td>\n",
       "      <td>US$59.99</td>\n",
       "    </tr>\n",
       "    <tr>\n",
       "      <th>9</th>\n",
       "      <td>Fundamentals of Software Architecture</td>\n",
       "      <td>Mark Richards</td>\n",
       "      <td>O'Reilly Media</td>\n",
       "      <td>2020</td>\n",
       "      <td>US$59.99</td>\n",
       "    </tr>\n",
       "  </tbody>\n",
       "</table>\n",
       "</div>"
      ],
      "text/plain": [
       "                                               Title            Auther  \\\n",
       "0                             Rust Atomics and Locks          Mara Bos   \n",
       "1                          The Staff Engineer's Path      Tanya Reilly   \n",
       "2  Hands-On Machine Learning with Scikit-Learn, K...    Aurélien Géron   \n",
       "3                                      Fluent Python   Luciano Ramalho   \n",
       "4                          Terraform: Up and Running  Yevgeniy Brikman   \n",
       "5                   Fundamentals of Data Engineering          Joe Reis   \n",
       "6              Designing Data-Intensive Applications  Martin Kleppmann   \n",
       "7                           Python for Data Analysis      Wes McKinney   \n",
       "8                             Building Microservices        Sam Newman   \n",
       "9              Fundamentals of Software Architecture     Mark Richards   \n",
       "\n",
       "        Publisher Publication year     Price  \n",
       "0  O'Reilly Media             2022  US$47.99  \n",
       "1  O'Reilly Media             2022  US$33.99  \n",
       "2  O'Reilly Media             2022  US$76.99  \n",
       "3  O'Reilly Media             2022  US$67.99  \n",
       "4  O'Reilly Media             2022  US$56.99  \n",
       "5  O'Reilly Media             2022  US$67.99  \n",
       "6  O'Reilly Media             2017  US$50.99  \n",
       "7  O'Reilly Media             2022  US$67.99  \n",
       "8  O'Reilly Media             2021  US$59.99  \n",
       "9  O'Reilly Media             2020  US$59.99  "
      ]
     },
     "execution_count": 118,
     "metadata": {},
     "output_type": "execute_result"
    }
   ],
   "source": [
    "df"
   ]
  },
  {
   "cell_type": "markdown",
   "id": "275c28b8-66d0-427b-b84f-66fb4602e08c",
   "metadata": {},
   "source": [
    "#### RESULT STORED IN EXCEL"
   ]
  },
  {
   "cell_type": "code",
   "execution_count": 119,
   "id": "cbf0d5a7-bd9f-477b-b8d2-71c0044d55c6",
   "metadata": {},
   "outputs": [],
   "source": [
    "df.to_excel('book.xlsx', index=False)"
   ]
  },
  {
   "cell_type": "code",
   "execution_count": null,
   "id": "745e96e6-3302-42f4-9195-3b3e7229c36b",
   "metadata": {},
   "outputs": [],
   "source": []
  }
 ],
 "metadata": {
  "kernelspec": {
   "display_name": "Python 3 (ipykernel)",
   "language": "python",
   "name": "python3"
  },
  "language_info": {
   "codemirror_mode": {
    "name": "ipython",
    "version": 3
   },
   "file_extension": ".py",
   "mimetype": "text/x-python",
   "name": "python",
   "nbconvert_exporter": "python",
   "pygments_lexer": "ipython3",
   "version": "3.10.5"
  }
 },
 "nbformat": 4,
 "nbformat_minor": 5
}
