{
 "cells": [
  {
   "cell_type": "markdown",
   "id": "fe64b5f0-791c-4cac-a575-9c3bc3b88f5c",
   "metadata": {},
   "source": [
    "# GEEKBUYING DATA WEBSCARPPING USING SELENIUM"
   ]
  },
  {
   "cell_type": "markdown",
   "id": "d4e7d4ca-c6c7-4c7d-baa7-2f89a01be6bd",
   "metadata": {},
   "source": [
    "#### Import Packages"
   ]
  },
  {
   "cell_type": "code",
   "execution_count": 24,
   "id": "94355f65-aa11-4d6b-948d-eca26cbd2eea",
   "metadata": {},
   "outputs": [],
   "source": [
    "from selenium import webdriver\n",
    "from selenium.webdriver.common.by import By\n",
    "from selenium.webdriver.common.keys import Keys\n",
    "import pandas as pd\n",
    "import time"
   ]
  },
  {
   "cell_type": "markdown",
   "id": "d01d0ad1-4707-4852-8611-600f32e83e2e",
   "metadata": {},
   "source": [
    "#### Set Up"
   ]
  },
  {
   "cell_type": "code",
   "execution_count": 25,
   "id": "3c49548e-76b4-4e3d-971a-8940a4a139ef",
   "metadata": {},
   "outputs": [],
   "source": [
    "# Chrome driver path\n",
    "path ='D:/SOFTWARES/chromedriver/chromedriver.exe'\n",
    "\n",
    "# Website\n",
    "website = 'https://www.yelp.com/search?cflt=health&find_loc=San+Francisco%2C+CA'"
   ]
  },
  {
   "cell_type": "code",
   "execution_count": 26,
   "id": "1edcd7b6-6a0f-43e4-80b3-181e0bb6053b",
   "metadata": {},
   "outputs": [
    {
     "name": "stderr",
     "output_type": "stream",
     "text": [
      "C:\\Users\\padi3\\AppData\\Local\\Temp\\ipykernel_22056\\485934192.py:2: DeprecationWarning: executable_path has been deprecated, please pass in a Service object\n",
      "  driver = webdriver.Chrome(path)\n"
     ]
    }
   ],
   "source": [
    "# Open Chrome\n",
    "driver = webdriver.Chrome(path)\n",
    "# Open website\n",
    "driver.get(website)\n",
    "# Maximise windows\n",
    "driver.maximize_window()\n",
    "# sleep for 1 sec\n",
    "time.sleep(1)"
   ]
  },
  {
   "cell_type": "markdown",
   "id": "b849320e-0718-4577-9c78-46a631e49d2d",
   "metadata": {},
   "source": [
    "#### Target data need to scrap\n",
    "\n",
    "##### 1.Name\n",
    "##### 2.Address\n",
    "##### 3.Expertise\n",
    "##### 4.Stars\n",
    "##### 5.Rating count"
   ]
  },
  {
   "cell_type": "code",
   "execution_count": 27,
   "id": "f03b5ffe-39c7-4779-9cb1-ed9a9d75f78a",
   "metadata": {},
   "outputs": [
    {
     "name": "stdout",
     "output_type": "stream",
     "text": [
      "1. Jean Yu, MD - Pacific Gynecology & Obstetrics Medical Group\n",
      "Pacific Heights\n",
      "Obstetricians & Gynecologists\n",
      "5 star rating\n",
      "23\n"
     ]
    }
   ],
   "source": [
    "# For single data\n",
    "# 1.Name\n",
    "na = driver.find_element(By.XPATH, '//div[@class=\"  border-color--default__09f24__NPAKY\"]/h3/span')\n",
    "# 2.Address\n",
    "add = driver.find_element(By.XPATH, '//div[@class=\"  border-color--default__09f24__NPAKY\"]/p[1]/span[2]')\n",
    "# 3.Expertise\n",
    "exp = driver.find_element(By.XPATH, '//span[@class = \"css-11bijt4\"]')\n",
    "# 4.Stars\n",
    "st = driver.find_element(By.XPATH, '//div[@class = \" five-stars__09f24__mBKym five-stars--regular__09f24__DgBNj display--inline-block__09f24__fEDiJ  border-color--default__09f24__NPAKY\"]')\n",
    "# 5.Rating count\n",
    "rat_cnt = driver.find_element(By.XPATH, '//span[@class=\" css-chan6m\"]')\n",
    "print(na.text)\n",
    "print(add.text)\n",
    "print(exp.text)\n",
    "print(st.get_attribute('aria-label'))\n",
    "print(rat_cnt.text)"
   ]
  },
  {
   "cell_type": "code",
   "execution_count": 28,
   "id": "857d50ae-7e75-458e-a8a5-1e3cf98c1f1a",
   "metadata": {},
   "outputs": [],
   "source": [
    "# 1.Name\n",
    "na = driver.find_elements(By.XPATH, '//div[@class=\"  border-color--default__09f24__NPAKY\"]/h3/span')\n",
    "# 2.Address\n",
    "add = driver.find_elements(By.XPATH, '//div[@class=\"  border-color--default__09f24__NPAKY\"]/p[1]/span[2]')\n",
    "# 3.Expertise\n",
    "exp = driver.find_elements(By.XPATH, '//div[@class = \"  border-color--default__09f24__NPAKY\"]/div/div/div/p')\n",
    "# 4.Stars\n",
    "st = driver.find_elements(By.XPATH, '//div[@class = \" five-stars__09f24__mBKym five-stars--regular__09f24__DgBNj display--inline-block__09f24__fEDiJ  border-color--default__09f24__NPAKY\"]')\n",
    "# 5.Rating count\n",
    "rat_cnt = driver.find_elements(By.XPATH, '//div[@class =\" display--inline-block__09f24__fEDiJ  border-color--default__09f24__NPAKY\"]/span[2]')"
   ]
  },
  {
   "cell_type": "code",
   "execution_count": 29,
   "id": "00627d5c-544c-4c0b-b854-e86b82a254ff",
   "metadata": {},
   "outputs": [],
   "source": [
    "# for multiple data\n",
    "\n",
    "names =[]\n",
    "address =[]\n",
    "expertise =[]\n",
    "stars =[]\n",
    "rating_counts =[]\n",
    "\n",
    "for n in na:\n",
    "    names.append(n.text)\n",
    "for a in add:\n",
    "    address.append(a.text)\n",
    "for e in exp:\n",
    "    expertise.append(e.text)\n",
    "for s in st:\n",
    "    stars.append(s.get_attribute('aria-label'))\n",
    "for r in rat_cnt:\n",
    "    rating_counts.append(r.text)\n",
    "    \n",
    "driver.close()"
   ]
  },
  {
   "cell_type": "markdown",
   "id": "51f7c825-6170-46c1-a4fc-bdeb88c5f0ad",
   "metadata": {},
   "source": [
    "#### Dict to Pandas DataFrame"
   ]
  },
  {
   "cell_type": "code",
   "execution_count": 30,
   "id": "687215d7-85ae-4b83-8e67-8d20576091e6",
   "metadata": {},
   "outputs": [
    {
     "data": {
      "text/html": [
       "<div>\n",
       "<style scoped>\n",
       "    .dataframe tbody tr th:only-of-type {\n",
       "        vertical-align: middle;\n",
       "    }\n",
       "\n",
       "    .dataframe tbody tr th {\n",
       "        vertical-align: top;\n",
       "    }\n",
       "\n",
       "    .dataframe thead th {\n",
       "        text-align: right;\n",
       "    }\n",
       "</style>\n",
       "<table border=\"1\" class=\"dataframe\">\n",
       "  <thead>\n",
       "    <tr style=\"text-align: right;\">\n",
       "      <th></th>\n",
       "      <th>names</th>\n",
       "      <th>address</th>\n",
       "      <th>expertice</th>\n",
       "      <th>stars</th>\n",
       "      <th>rating counts</th>\n",
       "    </tr>\n",
       "  </thead>\n",
       "  <tbody>\n",
       "    <tr>\n",
       "      <th>0</th>\n",
       "      <td>1. Jean Yu, MD - Pacific Gynecology &amp; Obstetri...</td>\n",
       "      <td>Pacific Heights</td>\n",
       "      <td>Obstetricians &amp; GynecologistsPacific Heights</td>\n",
       "      <td>5 star rating</td>\n",
       "      <td>23</td>\n",
       "    </tr>\n",
       "    <tr>\n",
       "      <th>1</th>\n",
       "      <td>2. Dignity Health-GoHealth Urgent Care</td>\n",
       "      <td>Hayes Valley</td>\n",
       "      <td>Urgent CareHayes Valley</td>\n",
       "      <td>4 star rating</td>\n",
       "      <td>226</td>\n",
       "    </tr>\n",
       "    <tr>\n",
       "      <th>2</th>\n",
       "      <td>3. One Medical</td>\n",
       "      <td>Castro</td>\n",
       "      <td>Family PracticeInternal MedicineConcierge Medi...</td>\n",
       "      <td>3 star rating</td>\n",
       "      <td>68</td>\n",
       "    </tr>\n",
       "    <tr>\n",
       "      <th>3</th>\n",
       "      <td>4. UCSF Medical Center</td>\n",
       "      <td>Inner Sunset</td>\n",
       "      <td>Medical CentersInner Sunset</td>\n",
       "      <td>3 star rating</td>\n",
       "      <td>471</td>\n",
       "    </tr>\n",
       "    <tr>\n",
       "      <th>4</th>\n",
       "      <td>5. Melissa Wong, MD</td>\n",
       "      <td>Outer Sunset</td>\n",
       "      <td>Family PracticeOuter Sunset</td>\n",
       "      <td>4.5 star rating</td>\n",
       "      <td>16</td>\n",
       "    </tr>\n",
       "    <tr>\n",
       "      <th>5</th>\n",
       "      <td>6. Kaiser Permanente San Francisco Medical Cen...</td>\n",
       "      <td>Anza Vista</td>\n",
       "      <td>Medical CentersAnza Vista</td>\n",
       "      <td>3 star rating</td>\n",
       "      <td>502</td>\n",
       "    </tr>\n",
       "    <tr>\n",
       "      <th>6</th>\n",
       "      <td>7. North East Medical Services - Portola</td>\n",
       "      <td>Portola</td>\n",
       "      <td>Family PracticeMedical CentersInternal Medicin...</td>\n",
       "      <td>2.5 star rating</td>\n",
       "      <td>23</td>\n",
       "    </tr>\n",
       "    <tr>\n",
       "      <th>7</th>\n",
       "      <td>8. Brightness Health</td>\n",
       "      <td>Castro</td>\n",
       "      <td>AcupunctureTraditional Chinese MedicineNutriti...</td>\n",
       "      <td>5 star rating</td>\n",
       "      <td>11</td>\n",
       "    </tr>\n",
       "    <tr>\n",
       "      <th>8</th>\n",
       "      <td>9. Clinic By the Bay</td>\n",
       "      <td>Excelsior</td>\n",
       "      <td>Medical CentersExcelsior</td>\n",
       "      <td>5 star rating</td>\n",
       "      <td>5</td>\n",
       "    </tr>\n",
       "    <tr>\n",
       "      <th>9</th>\n",
       "      <td>10. Double Happiness Health</td>\n",
       "      <td>Mission</td>\n",
       "      <td>AcupunctureMission</td>\n",
       "      <td>5 star rating</td>\n",
       "      <td>88</td>\n",
       "    </tr>\n",
       "  </tbody>\n",
       "</table>\n",
       "</div>"
      ],
      "text/plain": [
       "                                               names          address  \\\n",
       "0  1. Jean Yu, MD - Pacific Gynecology & Obstetri...  Pacific Heights   \n",
       "1             2. Dignity Health-GoHealth Urgent Care     Hayes Valley   \n",
       "2                                     3. One Medical           Castro   \n",
       "3                             4. UCSF Medical Center     Inner Sunset   \n",
       "4                                5. Melissa Wong, MD     Outer Sunset   \n",
       "5  6. Kaiser Permanente San Francisco Medical Cen...       Anza Vista   \n",
       "6           7. North East Medical Services - Portola          Portola   \n",
       "7                               8. Brightness Health           Castro   \n",
       "8                               9. Clinic By the Bay        Excelsior   \n",
       "9                        10. Double Happiness Health          Mission   \n",
       "\n",
       "                                           expertice            stars  \\\n",
       "0       Obstetricians & GynecologistsPacific Heights    5 star rating   \n",
       "1                            Urgent CareHayes Valley    4 star rating   \n",
       "2  Family PracticeInternal MedicineConcierge Medi...    3 star rating   \n",
       "3                        Medical CentersInner Sunset    3 star rating   \n",
       "4                        Family PracticeOuter Sunset  4.5 star rating   \n",
       "5                          Medical CentersAnza Vista    3 star rating   \n",
       "6  Family PracticeMedical CentersInternal Medicin...  2.5 star rating   \n",
       "7  AcupunctureTraditional Chinese MedicineNutriti...    5 star rating   \n",
       "8                           Medical CentersExcelsior    5 star rating   \n",
       "9                                 AcupunctureMission    5 star rating   \n",
       "\n",
       "  rating counts  \n",
       "0            23  \n",
       "1           226  \n",
       "2            68  \n",
       "3           471  \n",
       "4            16  \n",
       "5           502  \n",
       "6            23  \n",
       "7            11  \n",
       "8             5  \n",
       "9            88  "
      ]
     },
     "execution_count": 30,
     "metadata": {},
     "output_type": "execute_result"
    }
   ],
   "source": [
    "# Before data cleaning -- stars\n",
    "\n",
    "df = pd.DataFrame({'names':names, 'address':address, 'expertice':expertise, 'stars':stars, 'rating counts':rating_counts})\n",
    "df"
   ]
  },
  {
   "cell_type": "markdown",
   "id": "a19ba932-ee38-43b6-847b-37b188265ad4",
   "metadata": {},
   "source": [
    "#### Dict cleaning"
   ]
  },
  {
   "cell_type": "code",
   "execution_count": 31,
   "id": "7241f8bc-b824-46e9-afa1-d4ad94f05112",
   "metadata": {},
   "outputs": [],
   "source": [
    "# After data cleaning -- stars\n",
    "\n",
    "df['stars'] = df['stars'].apply(lambda x: x.replace('star rating',''))"
   ]
  },
  {
   "cell_type": "code",
   "execution_count": 32,
   "id": "313df9c0-b540-4618-b7f5-35298688f705",
   "metadata": {},
   "outputs": [
    {
     "data": {
      "text/html": [
       "<div>\n",
       "<style scoped>\n",
       "    .dataframe tbody tr th:only-of-type {\n",
       "        vertical-align: middle;\n",
       "    }\n",
       "\n",
       "    .dataframe tbody tr th {\n",
       "        vertical-align: top;\n",
       "    }\n",
       "\n",
       "    .dataframe thead th {\n",
       "        text-align: right;\n",
       "    }\n",
       "</style>\n",
       "<table border=\"1\" class=\"dataframe\">\n",
       "  <thead>\n",
       "    <tr style=\"text-align: right;\">\n",
       "      <th></th>\n",
       "      <th>names</th>\n",
       "      <th>address</th>\n",
       "      <th>expertice</th>\n",
       "      <th>stars</th>\n",
       "      <th>rating counts</th>\n",
       "    </tr>\n",
       "  </thead>\n",
       "  <tbody>\n",
       "    <tr>\n",
       "      <th>0</th>\n",
       "      <td>1. Jean Yu, MD - Pacific Gynecology &amp; Obstetri...</td>\n",
       "      <td>Pacific Heights</td>\n",
       "      <td>Obstetricians &amp; GynecologistsPacific Heights</td>\n",
       "      <td>5</td>\n",
       "      <td>23</td>\n",
       "    </tr>\n",
       "    <tr>\n",
       "      <th>1</th>\n",
       "      <td>2. Dignity Health-GoHealth Urgent Care</td>\n",
       "      <td>Hayes Valley</td>\n",
       "      <td>Urgent CareHayes Valley</td>\n",
       "      <td>4</td>\n",
       "      <td>226</td>\n",
       "    </tr>\n",
       "    <tr>\n",
       "      <th>2</th>\n",
       "      <td>3. One Medical</td>\n",
       "      <td>Castro</td>\n",
       "      <td>Family PracticeInternal MedicineConcierge Medi...</td>\n",
       "      <td>3</td>\n",
       "      <td>68</td>\n",
       "    </tr>\n",
       "    <tr>\n",
       "      <th>3</th>\n",
       "      <td>4. UCSF Medical Center</td>\n",
       "      <td>Inner Sunset</td>\n",
       "      <td>Medical CentersInner Sunset</td>\n",
       "      <td>3</td>\n",
       "      <td>471</td>\n",
       "    </tr>\n",
       "    <tr>\n",
       "      <th>4</th>\n",
       "      <td>5. Melissa Wong, MD</td>\n",
       "      <td>Outer Sunset</td>\n",
       "      <td>Family PracticeOuter Sunset</td>\n",
       "      <td>4.5</td>\n",
       "      <td>16</td>\n",
       "    </tr>\n",
       "    <tr>\n",
       "      <th>5</th>\n",
       "      <td>6. Kaiser Permanente San Francisco Medical Cen...</td>\n",
       "      <td>Anza Vista</td>\n",
       "      <td>Medical CentersAnza Vista</td>\n",
       "      <td>3</td>\n",
       "      <td>502</td>\n",
       "    </tr>\n",
       "    <tr>\n",
       "      <th>6</th>\n",
       "      <td>7. North East Medical Services - Portola</td>\n",
       "      <td>Portola</td>\n",
       "      <td>Family PracticeMedical CentersInternal Medicin...</td>\n",
       "      <td>2.5</td>\n",
       "      <td>23</td>\n",
       "    </tr>\n",
       "    <tr>\n",
       "      <th>7</th>\n",
       "      <td>8. Brightness Health</td>\n",
       "      <td>Castro</td>\n",
       "      <td>AcupunctureTraditional Chinese MedicineNutriti...</td>\n",
       "      <td>5</td>\n",
       "      <td>11</td>\n",
       "    </tr>\n",
       "    <tr>\n",
       "      <th>8</th>\n",
       "      <td>9. Clinic By the Bay</td>\n",
       "      <td>Excelsior</td>\n",
       "      <td>Medical CentersExcelsior</td>\n",
       "      <td>5</td>\n",
       "      <td>5</td>\n",
       "    </tr>\n",
       "    <tr>\n",
       "      <th>9</th>\n",
       "      <td>10. Double Happiness Health</td>\n",
       "      <td>Mission</td>\n",
       "      <td>AcupunctureMission</td>\n",
       "      <td>5</td>\n",
       "      <td>88</td>\n",
       "    </tr>\n",
       "  </tbody>\n",
       "</table>\n",
       "</div>"
      ],
      "text/plain": [
       "                                               names          address  \\\n",
       "0  1. Jean Yu, MD - Pacific Gynecology & Obstetri...  Pacific Heights   \n",
       "1             2. Dignity Health-GoHealth Urgent Care     Hayes Valley   \n",
       "2                                     3. One Medical           Castro   \n",
       "3                             4. UCSF Medical Center     Inner Sunset   \n",
       "4                                5. Melissa Wong, MD     Outer Sunset   \n",
       "5  6. Kaiser Permanente San Francisco Medical Cen...       Anza Vista   \n",
       "6           7. North East Medical Services - Portola          Portola   \n",
       "7                               8. Brightness Health           Castro   \n",
       "8                               9. Clinic By the Bay        Excelsior   \n",
       "9                        10. Double Happiness Health          Mission   \n",
       "\n",
       "                                           expertice stars rating counts  \n",
       "0       Obstetricians & GynecologistsPacific Heights    5             23  \n",
       "1                            Urgent CareHayes Valley    4            226  \n",
       "2  Family PracticeInternal MedicineConcierge Medi...    3             68  \n",
       "3                        Medical CentersInner Sunset    3            471  \n",
       "4                        Family PracticeOuter Sunset  4.5             16  \n",
       "5                          Medical CentersAnza Vista    3            502  \n",
       "6  Family PracticeMedical CentersInternal Medicin...  2.5             23  \n",
       "7  AcupunctureTraditional Chinese MedicineNutriti...    5             11  \n",
       "8                           Medical CentersExcelsior    5              5  \n",
       "9                                 AcupunctureMission    5             88  "
      ]
     },
     "execution_count": 32,
     "metadata": {},
     "output_type": "execute_result"
    }
   ],
   "source": [
    "df"
   ]
  },
  {
   "cell_type": "markdown",
   "id": "18dbe330-9622-4971-ab54-16ddc491ef3d",
   "metadata": {},
   "source": [
    "#### Exporting to csv"
   ]
  },
  {
   "cell_type": "code",
   "execution_count": 33,
   "id": "afb497ca-9798-40da-b508-bd7541b080e8",
   "metadata": {},
   "outputs": [],
   "source": [
    "df.to_csv('data.csv', index=False)"
   ]
  },
  {
   "cell_type": "code",
   "execution_count": null,
   "id": "e6fa1a8b-bc90-42f8-8ab2-f659a58980c2",
   "metadata": {},
   "outputs": [],
   "source": []
  }
 ],
 "metadata": {
  "kernelspec": {
   "display_name": "Python 3 (ipykernel)",
   "language": "python",
   "name": "python3"
  },
  "language_info": {
   "codemirror_mode": {
    "name": "ipython",
    "version": 3
   },
   "file_extension": ".py",
   "mimetype": "text/x-python",
   "name": "python",
   "nbconvert_exporter": "python",
   "pygments_lexer": "ipython3",
   "version": "3.10.5"
  }
 },
 "nbformat": 4,
 "nbformat_minor": 5
}
